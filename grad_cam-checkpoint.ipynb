{
 "cells": [
  {
   "cell_type": "markdown",
   "metadata": {},
   "source": [
    "模型导入"
   ]
  },
  {
   "cell_type": "code",
   "execution_count": 5,
   "metadata": {},
   "outputs": [
    {
     "data": {
      "text/plain": [
       "<All keys matched successfully>"
      ]
     },
     "execution_count": 5,
     "metadata": {},
     "output_type": "execute_result"
    }
   ],
   "source": [
    "import os\n",
    "import torch\n",
    "from tensorflow import keras\n",
    "from torch import cuda\n",
    "from NN_class import LeNet\n",
    "\n",
    "device = 'cuda' if cuda.is_available() else 'cpu'\n",
    "loaded_params = torch.load('save_model\\\\best_model0.pth')\n",
    "net = LeNet().to(device)\n",
    "net.load_state_dict(loaded_params)"
   ]
  },
  {
   "cell_type": "markdown",
   "metadata": {},
   "source": [
    "图片读入"
   ]
  },
  {
   "cell_type": "code",
   "execution_count": 7,
   "metadata": {},
   "outputs": [],
   "source": [
    "import time\n",
    "import matplotlib.pyplot as plt\n",
    "\n",
    "def draw_features(width,height,x,savename):\n",
    "    tic=time.time()\n",
    "    fig = plt.figure(figsize=(12,16))\n",
    "    fig.subplots_adjust(left=0.05, right=0.95, bottom=0.05, top=0.95, wspace=0.05, hspace=0.05)\n",
    "    for i in range(width*height):\n",
    "        plt.subplot(height,width, i + 1)\n",
    "        plt.axis('off')\n",
    "        # plt.tight_layout()\n",
    "        img = x[i, :, :]\n",
    "        pmin = np.min(img)\n",
    "        pmax = np.max(img)\n",
    "        img = (img - pmin) / (pmax - pmin + 0.01)\n",
    "        plt.imshow(img, cmap='hot')\n",
    "        print(\"{}/{}\".format(i,width*height))\n",
    "    fig.savefig(savename, dpi=100)\n",
    "    fig.show()\n",
    "    fig.clf()\n",
    "    plt.close()\n",
    "    print(\"time:{}\".format(time.time()-tic))\n",
    "\n"
   ]
  },
  {
   "cell_type": "code",
   "execution_count": 8,
   "metadata": {},
   "outputs": [],
   "source": [
    "from keras.preprocessing import image\n",
    "import numpy as np\n",
    "\n",
    "# The local path to our target image\n",
    "img_path = 'test_2.jpg'\n",
    "\n",
    "\n",
    "# `img` is a PIL image of size 224x224\n",
    "img = image.load_img(img_path, target_size=(28, 28))\n",
    "\n",
    "# 一转，`x` is a float32 Numpy array of shape (224, 224, 3)\n",
    "x = image.img_to_array(img)\n",
    "\n",
    "# 二扩，We add a dimension to transform our array into a \"batch\"\n",
    "# of size (1, 224, 224, 3)\n",
    "\"\"\"x1 = np.expand_dims(x0, axis=0)\"\"\"\n",
    "\n",
    "# 三标，Finally we preprocess the batch\n",
    "# (this does channel-wise color normalization)\n",
    "x = torch.tensor(x)\n",
    "x = torch.permute(x,(2,1,0))\n",
    "x = x.to(device)\n",
    "\n"
   ]
  },
  {
   "cell_type": "markdown",
   "metadata": {},
   "source": [
    "结果输出"
   ]
  },
  {
   "cell_type": "code",
   "execution_count": 9,
   "metadata": {},
   "outputs": [
    {
     "name": "stdout",
     "output_type": "stream",
     "text": [
      "tensor(2, device='cuda:0')\n",
      "2\n"
     ]
    }
   ],
   "source": [
    "output = net(x)\n",
    "target = 2\n",
    "y_pred = torch.argmax(output)#求最大的类别的索引\n",
    "print(y_pred)\n",
    "print(target)"
   ]
  },
  {
   "cell_type": "markdown",
   "metadata": {},
   "source": [
    "求热力图矩阵"
   ]
  },
  {
   "cell_type": "code",
   "execution_count": 10,
   "metadata": {},
   "outputs": [
    {
     "name": "stdout",
     "output_type": "stream",
     "text": [
      "0/6\n",
      "1/6\n",
      "2/6\n",
      "3/6\n",
      "4/6\n",
      "5/6\n",
      "time:0.07509088516235352\n",
      "plots/f1_conv1.png\n",
      "0/16\n",
      "1/16\n",
      "2/16\n",
      "3/16\n",
      "4/16\n",
      "5/16\n",
      "6/16\n",
      "7/16\n",
      "8/16\n",
      "9/16\n",
      "10/16\n"
     ]
    },
    {
     "name": "stderr",
     "output_type": "stream",
     "text": [
      "C:\\Users\\LENOVO\\AppData\\Local\\Temp\\ipykernel_23196\\3551343022.py:19: UserWarning: FigureCanvasAgg is non-interactive, and thus cannot be shown\n",
      "  fig.show()\n"
     ]
    },
    {
     "name": "stdout",
     "output_type": "stream",
     "text": [
      "11/16\n",
      "12/16\n",
      "13/16\n",
      "14/16\n",
      "15/16\n",
      "time:0.46745944023132324\n",
      "plots/f1_conv1.png\n",
      "0/16\n",
      "1/16\n",
      "2/16\n",
      "3/16\n",
      "4/16\n",
      "5/16\n",
      "6/16\n",
      "7/16\n",
      "8/16\n",
      "9/16\n",
      "10/16\n",
      "11/16\n",
      "12/16\n",
      "13/16\n",
      "14/16\n",
      "15/16\n",
      "time:0.23806023597717285\n",
      "plots/f1_conv1.png\n",
      "0/120\n",
      "1/120\n",
      "2/120\n",
      "3/120\n",
      "4/120\n",
      "5/120\n",
      "6/120\n",
      "7/120\n",
      "8/120\n",
      "9/120\n",
      "10/120\n",
      "11/120\n",
      "12/120\n",
      "13/120\n",
      "14/120\n",
      "15/120\n",
      "16/120\n",
      "17/120\n",
      "18/120\n",
      "19/120\n",
      "20/120\n",
      "21/120\n",
      "22/120\n",
      "23/120\n",
      "24/120\n",
      "25/120\n",
      "26/120\n",
      "27/120\n",
      "28/120\n",
      "29/120\n",
      "30/120\n",
      "31/120\n",
      "32/120\n",
      "33/120\n",
      "34/120\n",
      "35/120\n",
      "36/120\n",
      "37/120\n",
      "38/120\n",
      "39/120\n",
      "40/120\n",
      "41/120\n",
      "42/120\n",
      "43/120\n",
      "44/120\n",
      "45/120\n",
      "46/120\n",
      "47/120\n",
      "48/120\n",
      "49/120\n",
      "50/120\n",
      "51/120\n",
      "52/120\n",
      "53/120\n",
      "54/120\n",
      "55/120\n",
      "56/120\n",
      "57/120\n",
      "58/120\n",
      "59/120\n",
      "60/120\n",
      "61/120\n",
      "62/120\n",
      "63/120\n",
      "64/120\n",
      "65/120\n",
      "66/120\n",
      "67/120\n",
      "68/120\n",
      "69/120\n",
      "70/120\n",
      "71/120\n",
      "72/120\n",
      "73/120\n",
      "74/120\n",
      "75/120\n",
      "76/120\n",
      "77/120\n",
      "78/120\n",
      "79/120\n",
      "80/120\n",
      "81/120\n",
      "82/120\n",
      "83/120\n",
      "84/120\n",
      "85/120\n",
      "86/120\n",
      "87/120\n",
      "88/120\n",
      "89/120\n",
      "90/120\n",
      "91/120\n",
      "92/120\n",
      "93/120\n",
      "94/120\n",
      "95/120\n",
      "96/120\n",
      "97/120\n",
      "98/120\n",
      "99/120\n",
      "100/120\n",
      "101/120\n",
      "102/120\n",
      "103/120\n",
      "104/120\n",
      "105/120\n",
      "106/120\n",
      "107/120\n",
      "108/120\n",
      "109/120\n",
      "110/120\n",
      "111/120\n",
      "112/120\n",
      "113/120\n",
      "114/120\n",
      "115/120\n",
      "116/120\n",
      "117/120\n",
      "118/120\n",
      "119/120\n",
      "time:2.0577616691589355\n",
      "plots/f1_conv1.png\n"
     ]
    }
   ],
   "source": [
    "import tensorflow as tf\n",
    "from tensorflow.keras import backend as K \n",
    "\n",
    "params = {'weight':loaded_params['conv3.weight'],'bias':loaded_params['conv3.bias']}  \n",
    "x1 = net.active_fun(net.conv1(x))\n",
    "x1 = net.pooling1(x1)\n",
    "\n",
    "draw_features(3, 2, x1.cpu().detach().numpy(), \"{}/f1_conv1.png\".format('plots'))  \n",
    "print(\"{}/f1_conv1.png\".format('plots'))\n",
    "\n",
    "x1 = net.active_fun(net.conv2(x1))\n",
    "\n",
    "draw_features(4, 4, x1.cpu().detach().numpy(), \"{}/f1_conv2.png\".format('plots'))  \n",
    "print(\"{}/f1_conv1.png\".format('plots'))\n",
    "\n",
    "x1 = net.pooling2(x1)\n",
    "\n",
    "draw_features(4, 4, x1.cpu().detach().numpy(), \"{}/f1_conv3.png\".format('plots'))  \n",
    "print(\"{}/f1_conv1.png\".format('plots'))\n",
    "\n",
    "x1 = net.conv3(x1)\n",
    "draw_features(10,12, x1.cpu().detach().numpy(), \"{}/f1_conv4.png\".format('plots'))  \n",
    "print(\"{}/f1_conv1.png\".format('plots'))\n",
    "\n",
    "\n",
    "\n",
    "\n"
   ]
  },
  {
   "cell_type": "code",
   "execution_count": null,
   "metadata": {},
   "outputs": [],
   "source": []
  },
  {
   "cell_type": "code",
   "execution_count": null,
   "metadata": {},
   "outputs": [],
   "source": []
  }
 ],
 "metadata": {
  "kernelspec": {
   "display_name": "mypytorch",
   "language": "python",
   "name": "mypytorch"
  },
  "language_info": {
   "codemirror_mode": {
    "name": "ipython",
    "version": 3
   },
   "file_extension": ".py",
   "mimetype": "text/x-python",
   "name": "python",
   "nbconvert_exporter": "python",
   "pygments_lexer": "ipython3",
   "version": "3.12.0"
  }
 },
 "nbformat": 4,
 "nbformat_minor": 4
}

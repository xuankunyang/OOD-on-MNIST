{
 "cells": [
  {
   "cell_type": "markdown",
   "metadata": {},
   "source": [
    "模型导入"
   ]
  },
  {
   "cell_type": "code",
   "execution_count": 1,
   "metadata": {},
   "outputs": [
    {
     "data": {
      "text/plain": [
       "<All keys matched successfully>"
      ]
     },
     "execution_count": 1,
     "metadata": {},
     "output_type": "execute_result"
    }
   ],
   "source": [
    "import os\n",
    "import torch\n",
    "from tensorflow import keras\n",
    "from torch import cuda,nn\n",
    "from NN_class import LeNet\n",
    "import numpy as np\n",
    "\n",
    "device = 'cuda' if cuda.is_available() else 'cpu'\n",
    "\n",
    "loaded_params = torch.load('save_model\\\\best_model_on_3.pth')\n",
    "net = LeNet().to(device)\n",
    "net.load_state_dict(loaded_params)"
   ]
  },
  {
   "cell_type": "markdown",
   "metadata": {},
   "source": [
    "定义特征图展示函数"
   ]
  },
  {
   "cell_type": "code",
   "execution_count": 2,
   "metadata": {},
   "outputs": [],
   "source": [
    "import time\n",
    "import matplotlib.pyplot as plt\n",
    "\n",
    "def draw_features(width,height,x,savename):\n",
    "    tic=time.time()\n",
    "    fig = plt.figure(figsize=(12,16))\n",
    "    fig.subplots_adjust(left=0.05, right=0.95, bottom=0.05, top=0.95, wspace=0.05, hspace=0.05)\n",
    "    for i in range(width*height):\n",
    "        plt.subplot(height,width, i + 1)\n",
    "        plt.axis('off')\n",
    "        # plt.tight_layout()\n",
    "        img = x[i, :, :]\n",
    "        pmin = np.min(img)\n",
    "        pmax = np.max(img)\n",
    "        img = (img - pmin) / (pmax - pmin + 0.0001)\n",
    "        img = img.T\n",
    "        plt.imshow(img, cmap='viridis')\n",
    "        print(\"{}/{}\".format(i,width*height))\n",
    "    fig.savefig(savename, dpi=1000)\n",
    "    fig.show()\n",
    "    fig.clf()\n",
    "    plt.close()\n",
    "    print(\"time:{}\".format(time.time()-tic))\n",
    "\n"
   ]
  },
  {
   "cell_type": "markdown",
   "metadata": {},
   "source": [
    "图片读入"
   ]
  },
  {
   "cell_type": "code",
   "execution_count": 3,
   "metadata": {},
   "outputs": [],
   "source": [
    "from keras.preprocessing import image\n",
    "import numpy as np\n",
    "from torchvision import transforms\n",
    "\n",
    "# The local path to our target image\n",
    "data_transform = transforms.Compose([\n",
    "        transforms.ToTensor(),\n",
    "        transforms.Normalize(mean=[0,0,0], std=[1.0,1.0,1.0])\n",
    "])\n",
    "\n",
    "# Prepare image\n",
    "img_path = \"test_3.jpg\"\n",
    "assert os.path.exists(img_path), \"file: '{}' dose not exist.\".format(img_path)\n",
    "img = image.load_img(img_path, target_size=(28, 28))\n",
    "img = np.array(img, dtype=np.float32)\n",
    "img_tensor = data_transform(img)\n",
    "img_tensor = img_tensor.permute(0,2,1)\n",
    "\n",
    "\n",
    "\n",
    "# `img` is a PIL image of size 224x224\n",
    "\n",
    "x = img_tensor.to(device)\n",
    "\n"
   ]
  },
  {
   "cell_type": "markdown",
   "metadata": {},
   "source": [
    "结果输出"
   ]
  },
  {
   "cell_type": "code",
   "execution_count": 4,
   "metadata": {},
   "outputs": [
    {
     "name": "stdout",
     "output_type": "stream",
     "text": [
      "tensor(3, device='cuda:0')\n"
     ]
    }
   ],
   "source": [
    "output = net(x)\n",
    "y_pred = torch.argmax(output)#求最大的类别的索引\n",
    "print(y_pred)"
   ]
  },
  {
   "cell_type": "markdown",
   "metadata": {},
   "source": [
    "进行特征图展示"
   ]
  },
  {
   "cell_type": "code",
   "execution_count": 5,
   "metadata": {},
   "outputs": [
    {
     "name": "stdout",
     "output_type": "stream",
     "text": [
      "0/6\n",
      "1/6\n",
      "2/6\n",
      "3/6\n",
      "4/6\n",
      "5/6\n"
     ]
    },
    {
     "name": "stderr",
     "output_type": "stream",
     "text": [
      "C:\\Users\\LENOVO\\AppData\\Local\\Temp\\ipykernel_27536\\3897836850.py:20: UserWarning: FigureCanvasAgg is non-interactive, and thus cannot be shown\n",
      "  fig.show()\n"
     ]
    },
    {
     "name": "stdout",
     "output_type": "stream",
     "text": [
      "time:5.198038816452026\n",
      "plots/f1_conv1.png\n",
      "0/6\n",
      "1/6\n",
      "2/6\n",
      "3/6\n",
      "4/6\n",
      "5/6\n",
      "time:5.230624675750732\n",
      "plots/f1_conv1.png\n",
      "0/6\n",
      "1/6\n",
      "2/6\n",
      "3/6\n",
      "4/6\n",
      "5/6\n",
      "time:5.251984119415283\n",
      "plots/f1_conv1.png\n",
      "0/16\n",
      "1/16\n",
      "2/16\n",
      "3/16\n",
      "4/16\n",
      "5/16\n",
      "6/16\n",
      "7/16\n",
      "8/16\n",
      "9/16\n",
      "10/16\n",
      "11/16\n",
      "12/16\n",
      "13/16\n",
      "14/16\n",
      "15/16\n",
      "time:6.450160264968872\n",
      "plots/f1_conv1.png\n",
      "0/16\n",
      "1/16\n",
      "2/16\n",
      "3/16\n",
      "4/16\n",
      "5/16\n",
      "6/16\n",
      "7/16\n",
      "8/16\n",
      "9/16\n",
      "10/16\n",
      "11/16\n",
      "12/16\n",
      "13/16\n",
      "14/16\n",
      "15/16\n",
      "time:7.238378524780273\n",
      "plots/f1_conv1.png\n",
      "0/16\n",
      "1/16\n",
      "2/16\n",
      "3/16\n",
      "4/16\n",
      "5/16\n",
      "6/16\n",
      "7/16\n",
      "8/16\n",
      "9/16\n",
      "10/16\n",
      "11/16\n",
      "12/16\n",
      "13/16\n",
      "14/16\n",
      "15/16\n",
      "time:6.4469873905181885\n",
      "plots/f1_conv1.png\n"
     ]
    }
   ],
   "source": [
    "import tensorflow as tf\n",
    "from tensorflow.keras import backend as K \n",
    "\n",
    "\n",
    "\n",
    "x1 = net.conv1(x)\n",
    "draw_features(3, 2, x1.cpu().detach().numpy(), \"{}/f1_conv1_viridis.png\".format('plots'))  \n",
    "print(\"{}/f1_conv1.png\".format('plots'))\n",
    "\n",
    "x2 = net.active_fun(x1)\n",
    "draw_features(3, 2, x2.cpu().detach().numpy(), \"{}/f1_act1_viridis.png\".format('plots'))  \n",
    "print(\"{}/f1_conv1.png\".format('plots'))\n",
    "\n",
    "x2 = net.pooling1(x2)\n",
    "draw_features(3, 2, x2.cpu().detach().numpy(), \"{}/f1_pooling1_viridis.png\".format('plots'))  \n",
    "print(\"{}/f1_conv1.png\".format('plots'))\n",
    "\n",
    "x2 = net.conv2(x2)\n",
    "draw_features(4, 4, x2.cpu().detach().numpy(), \"{}/f1_conv2_viridis.png\".format('plots'))  \n",
    "print(\"{}/f1_conv1.png\".format('plots'))\n",
    "\n",
    "x3 = net.active_fun(x2)\n",
    "draw_features(4, 4, x3.cpu().detach().numpy(), \"{}/f1_act2_viridis.png\".format('plots'))  \n",
    "print(\"{}/f1_conv1.png\".format('plots'))\n",
    "\n",
    "x3 = net.pooling2(x3)\n",
    "draw_features(4, 4, x3.cpu().detach().numpy(), \"{}/f1_pooling2_viridis.png\".format('plots'))  \n",
    "print(\"{}/f1_conv1.png\".format('plots'))\n",
    "\n"
   ]
  },
  {
   "cell_type": "markdown",
   "metadata": {},
   "source": [
    "卷积核可视化"
   ]
  },
  {
   "cell_type": "code",
   "execution_count": 6,
   "metadata": {},
   "outputs": [
    {
     "name": "stdout",
     "output_type": "stream",
     "text": [
      "torch.Size([6, 3, 5, 5])\n",
      "torch.Size([18, 5, 5])\n",
      "0/18\n",
      "1/18\n",
      "2/18\n",
      "3/18\n",
      "4/18\n",
      "5/18\n",
      "6/18\n",
      "7/18\n",
      "8/18\n",
      "9/18\n",
      "10/18\n",
      "11/18\n",
      "12/18\n",
      "13/18\n",
      "14/18\n",
      "15/18\n",
      "16/18\n",
      "17/18\n"
     ]
    },
    {
     "name": "stderr",
     "output_type": "stream",
     "text": [
      "C:\\Users\\LENOVO\\AppData\\Local\\Temp\\ipykernel_27536\\3897836850.py:20: UserWarning: FigureCanvasAgg is non-interactive, and thus cannot be shown\n",
      "  fig.show()\n"
     ]
    },
    {
     "name": "stdout",
     "output_type": "stream",
     "text": [
      "time:5.854251861572266\n",
      "torch.Size([16, 6, 5, 5])\n",
      "torch.Size([96, 5, 5])\n",
      "0/96\n",
      "1/96\n",
      "2/96\n",
      "3/96\n",
      "4/96\n",
      "5/96\n",
      "6/96\n",
      "7/96\n",
      "8/96\n",
      "9/96\n",
      "10/96\n",
      "11/96\n",
      "12/96\n",
      "13/96\n",
      "14/96\n",
      "15/96\n",
      "16/96\n",
      "17/96\n",
      "18/96\n",
      "19/96\n",
      "20/96\n",
      "21/96\n",
      "22/96\n",
      "23/96\n",
      "24/96\n",
      "25/96\n",
      "26/96\n",
      "27/96\n",
      "28/96\n",
      "29/96\n",
      "30/96\n",
      "31/96\n",
      "32/96\n",
      "33/96\n",
      "34/96\n",
      "35/96\n",
      "36/96\n",
      "37/96\n",
      "38/96\n",
      "39/96\n",
      "40/96\n",
      "41/96\n",
      "42/96\n",
      "43/96\n",
      "44/96\n",
      "45/96\n",
      "46/96\n",
      "47/96\n",
      "48/96\n",
      "49/96\n",
      "50/96\n",
      "51/96\n",
      "52/96\n",
      "53/96\n",
      "54/96\n",
      "55/96\n",
      "56/96\n",
      "57/96\n",
      "58/96\n",
      "59/96\n",
      "60/96\n",
      "61/96\n",
      "62/96\n",
      "63/96\n",
      "64/96\n",
      "65/96\n",
      "66/96\n",
      "67/96\n",
      "68/96\n",
      "69/96\n",
      "70/96\n",
      "71/96\n",
      "72/96\n",
      "73/96\n",
      "74/96\n",
      "75/96\n",
      "76/96\n",
      "77/96\n",
      "78/96\n",
      "79/96\n",
      "80/96\n",
      "81/96\n",
      "82/96\n",
      "83/96\n",
      "84/96\n",
      "85/96\n",
      "86/96\n",
      "87/96\n",
      "88/96\n",
      "89/96\n",
      "90/96\n",
      "91/96\n",
      "92/96\n",
      "93/96\n",
      "94/96\n",
      "95/96\n",
      "time:6.198883056640625\n"
     ]
    }
   ],
   "source": [
    "from torch.utils.tensorboard import SummaryWriter\n",
    "import torchvision.utils as vutils\n",
    "import torchvision.models as models\n",
    "\n",
    "kernel_num = 0\n",
    "vis_max = 2\n",
    "# 取前两层卷积核\n",
    "for sub_module in net.modules():\n",
    "    if not isinstance(sub_module, nn.Conv2d):\n",
    "        continue\n",
    "    if kernel_num >= vis_max:\n",
    "        break\n",
    "    kernel_num += 1\n",
    "    kernels = sub_module.weight\n",
    "    print(kernels.shape)\n",
    "    c_out, c_in, k_h, k_w = tuple(kernels.shape)  # 输出通道数,输入通道数,卷积核宽,卷积核高\n",
    "    kernels = kernels.view(-1,k_h, k_w)\n",
    "    print(kernels.shape)\n",
    "    draw_features(c_in,c_out,kernels.cpu().detach().numpy(),'plots/kernel{}'.format(kernel_num))\n",
    "\n",
    "    \n",
    "\n",
    "        "
   ]
  },
  {
   "cell_type": "markdown",
   "metadata": {},
   "source": [
    "权重获取"
   ]
  },
  {
   "cell_type": "code",
   "execution_count": 10,
   "metadata": {},
   "outputs": [
    {
     "ename": "KeyError",
     "evalue": "'fully_connect.weight'",
     "output_type": "error",
     "traceback": [
      "\u001b[1;31m---------------------------------------------------------------------------\u001b[0m",
      "\u001b[1;31mKeyError\u001b[0m                                  Traceback (most recent call last)",
      "Cell \u001b[1;32mIn[10], line 3\u001b[0m\n\u001b[0;32m      1\u001b[0m \u001b[38;5;28;01mimport\u001b[39;00m \u001b[38;5;21;01mcv2\u001b[39;00m\n\u001b[0;32m      2\u001b[0m a \u001b[38;5;241m=\u001b[39m loaded_params[\u001b[38;5;124m'\u001b[39m\u001b[38;5;124moutput.weight\u001b[39m\u001b[38;5;124m'\u001b[39m]\n\u001b[1;32m----> 3\u001b[0m b \u001b[38;5;241m=\u001b[39m \u001b[43mloaded_params\u001b[49m\u001b[43m[\u001b[49m\u001b[38;5;124;43m'\u001b[39;49m\u001b[38;5;124;43mfully_connect.weight\u001b[39;49m\u001b[38;5;124;43m'\u001b[39;49m\u001b[43m]\u001b[49m\n\u001b[0;32m      4\u001b[0m c \u001b[38;5;241m=\u001b[39m loaded_params[\u001b[38;5;124m'\u001b[39m\u001b[38;5;124mconv3.weight\u001b[39m\u001b[38;5;124m'\u001b[39m]\n\u001b[0;32m      5\u001b[0m \u001b[38;5;28mprint\u001b[39m(a\u001b[38;5;241m.\u001b[39mshape)\n",
      "\u001b[1;31mKeyError\u001b[0m: 'fully_connect.weight'"
     ]
    }
   ],
   "source": [
    "import cv2\n",
    "a = loaded_params['output.weight']\n",
    "b = loaded_params['fully_connect.weight']\n",
    "c = loaded_params['conv3.weight']\n",
    "print(a.shape)\n",
    "print(b.shape)\n",
    "print(c.shape)\n"
   ]
  },
  {
   "cell_type": "code",
   "execution_count": null,
   "metadata": {},
   "outputs": [],
   "source": []
  }
 ],
 "metadata": {
  "kernelspec": {
   "display_name": "mypytorch",
   "language": "python",
   "name": "python3"
  },
  "language_info": {
   "codemirror_mode": {
    "name": "ipython",
    "version": 3
   },
   "file_extension": ".py",
   "mimetype": "text/x-python",
   "name": "python",
   "nbconvert_exporter": "python",
   "pygments_lexer": "ipython3",
   "version": "3.12.0"
  }
 },
 "nbformat": 4,
 "nbformat_minor": 4
}
